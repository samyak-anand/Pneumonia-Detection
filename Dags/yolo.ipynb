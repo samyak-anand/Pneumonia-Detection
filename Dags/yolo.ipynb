{
 "cells": [
  {
   "cell_type": "code",
   "execution_count": 3,
   "id": "36451513",
   "metadata": {},
   "outputs": [],
   "source": [
    "from data_loader import get_dicom_paths, parse_metadata, create_labels, load_dataset\n",
    "import pandas as pd"
   ]
  },
  {
   "cell_type": "code",
   "execution_count": 4,
   "id": "15015b39",
   "metadata": {},
   "outputs": [],
   "source": [
    "TRAIN_IMG_DIR = r\"C:\\\\Users\\\\samya\\\\PyCharmProject\\\\Pneumonia-Detection_dataset\\\\data\\\\stage_2_train_images\"\n",
    "TEST_IMG_DIR  = r\"C:\\\\Users\\\\samya\\\\PyCharmProject\\\\Pneumonia-Detection_dataset\\\\data\\\\stage_2_test_images\"\n",
    "LABEL_CSV     = r\"C:\\\\Users\\\\samya\\\\PyCharmProject\\\\Pneumonia-Detection_dataset\\\\data\\\\stage_2_train_labels.csv\""
   ]
  },
  {
   "cell_type": "code",
   "execution_count": null,
   "id": "d925d320",
   "metadata": {},
   "outputs": [],
   "source": []
  },
  {
   "cell_type": "code",
   "execution_count": null,
   "id": "89cffa7f",
   "metadata": {},
   "outputs": [
    {
     "name": "stdout",
     "output_type": "stream",
     "text": [
      "Found 26684 DICOM files in the 'train' directory.\n",
      "Found 3000 DICOM files in the 'test' directory.\n"
     ]
    }
   ],
   "source": [
    "train_img_paths = get_dicom_paths(TRAIN_IMG_DIR, label=\"train\")\n",
    "test_img_paths  = get_dicom_paths(TEST_IMG_DIR, label=\"test\")\n",
    "labels_df       = pd.read_csv(LABEL_CSV)"
   ]
  },
  {
   "cell_type": "code",
   "execution_count": 8,
   "id": "77de8d92",
   "metadata": {},
   "outputs": [],
   "source": [
    "# Ensure output directories exist\n",
    "os.makedirs(\"yolo_images\", exist_ok=True)\n",
    "os.makedirs(\"yolo_labels\", exist_ok=True)\n"
   ]
  },
  {
   "cell_type": "code",
   "execution_count": null,
   "id": "203c2f9c",
   "metadata": {},
   "outputs": [
    {
     "name": "stderr",
     "output_type": "stream",
     "text": [
      "  0%|          | 4/30227 [00:00<00:07, 4003.15it/s]\n"
     ]
    },
    {
     "ename": "AttributeError",
     "evalue": "module 'pydicom' has no attribute 'read_file'",
     "output_type": "error",
     "traceback": [
      "\u001b[31m---------------------------------------------------------------------------\u001b[39m",
      "\u001b[31mAttributeError\u001b[39m                            Traceback (most recent call last)",
      "\u001b[36mCell\u001b[39m\u001b[36m \u001b[39m\u001b[32mIn[9]\u001b[39m\u001b[32m, line 66\u001b[39m\n\u001b[32m     64\u001b[39m \u001b[38;5;66;03m# Example usage\u001b[39;00m\n\u001b[32m     65\u001b[39m labels_df = pd.read_csv(LABEL_CSV)\n\u001b[32m---> \u001b[39m\u001b[32m66\u001b[39m \u001b[43mprepare_yolo_dataset\u001b[49m\u001b[43m(\u001b[49m\u001b[43mTRAIN_IMG_DIR\u001b[49m\u001b[43m,\u001b[49m\u001b[43m \u001b[49m\u001b[33;43m\"\u001b[39;49m\u001b[33;43myolo_images\u001b[39;49m\u001b[33;43m\"\u001b[39;49m\u001b[43m,\u001b[49m\u001b[43m \u001b[49m\u001b[33;43m\"\u001b[39;49m\u001b[33;43myolo_labels\u001b[39;49m\u001b[33;43m\"\u001b[39;49m\u001b[43m,\u001b[49m\u001b[43m \u001b[49m\u001b[43mlabels_df\u001b[49m\u001b[43m)\u001b[49m\n",
      "\u001b[36mCell\u001b[39m\u001b[36m \u001b[39m\u001b[32mIn[9]\u001b[39m\u001b[32m, line 62\u001b[39m, in \u001b[36mprepare_yolo_dataset\u001b[39m\u001b[34m(dicom_dir, output_img_dir, label_dir, annotations_df)\u001b[39m\n\u001b[32m     60\u001b[39m save_yolo_label(label_dir, patient_id, row)\n\u001b[32m     61\u001b[39m \u001b[38;5;28;01mif\u001b[39;00m \u001b[38;5;129;01mnot\u001b[39;00m os.path.exists(img_path):\n\u001b[32m---> \u001b[39m\u001b[32m62\u001b[39m     \u001b[43msave_image_from_dicom\u001b[49m\u001b[43m(\u001b[49m\u001b[43mdicom_dir\u001b[49m\u001b[43m,\u001b[49m\u001b[43m \u001b[49m\u001b[43moutput_img_dir\u001b[49m\u001b[43m,\u001b[49m\u001b[43m \u001b[49m\u001b[43mpatient_id\u001b[49m\u001b[43m)\u001b[49m\n",
      "\u001b[36mCell\u001b[39m\u001b[36m \u001b[39m\u001b[32mIn[9]\u001b[39m\u001b[32m, line 20\u001b[39m, in \u001b[36msave_image_from_dicom\u001b[39m\u001b[34m(dicom_dir, output_img_dir, patient_id)\u001b[39m\n\u001b[32m     17\u001b[39m     \u001b[38;5;28;01mreturn\u001b[39;00m  \u001b[38;5;66;03m# Skip if image already exists\u001b[39;00m\n\u001b[32m     19\u001b[39m dicom_path = os.path.join(dicom_dir, \u001b[33mf\u001b[39m\u001b[33m\"\u001b[39m\u001b[38;5;132;01m{\u001b[39;00mpatient_id\u001b[38;5;132;01m}\u001b[39;00m\u001b[33m.dcm\u001b[39m\u001b[33m\"\u001b[39m)\n\u001b[32m---> \u001b[39m\u001b[32m20\u001b[39m dicom_data = \u001b[43mpydicom\u001b[49m\u001b[43m.\u001b[49m\u001b[43mread_file\u001b[49m(dicom_path)\n\u001b[32m     21\u001b[39m img_array = dicom_data.pixel_array\n\u001b[32m     23\u001b[39m \u001b[38;5;66;03m# Convert to 3-channel image for YOLO compatibility\u001b[39;00m\n",
      "\u001b[31mAttributeError\u001b[39m: module 'pydicom' has no attribute 'read_file'"
     ]
    }
   ],
   "source": [
    "import os\n",
    "import cv2\n",
    "import numpy as np\n",
    "import pandas as pd\n",
    "import pydicom\n",
    "from tqdm import tqdm\n",
    "\n",
    "# Define paths\n",
    "TRAIN_IMG_DIR = r\"C:\\Users\\samya\\PyCharmProject\\Pneumonia-Detection_dataset\\data\\stage_2_train_images\"\n",
    "TEST_IMG_DIR = r\"C:\\Users\\samya\\PyCharmProject\\Pneumonia-Detection_dataset\\data\\stage_2_test_images\"\n",
    "LABEL_CSV = r\"C:\\Users\\samya\\PyCharmProject\\Pneumonia-Detection_dataset\\data\\stage_2_train_labels.csv\"\n",
    "\n",
    "# Function to convert DICOM to JPG and save it\n",
    "def save_image_from_dicom(dicom_dir, output_img_dir, patient_id):\n",
    "    img_path = os.path.join(output_img_dir, f\"{patient_id}.jpg\")\n",
    "    if os.path.exists(img_path):\n",
    "        return  # Skip if image already exists\n",
    "\n",
    "    dicom_path = os.path.join(dicom_dir, f\"{patient_id}.dcm\")\n",
    "    dicom_data = pydicom.dcmread(dicom_path)\n",
    "    img_array = dicom_data.pixel_array\n",
    "\n",
    "    # Convert to 3-channel image for YOLO compatibility\n",
    "    img_rgb = np.stack([img_array] * 3, axis=-1)\n",
    "    cv2.imwrite(img_path, img_rgb)\n",
    "\n",
    "# Function to save YOLO-format label file\n",
    "def save_yolo_label(label_dir, patient_id, row=None):\n",
    "    img_size = 1024  # RSNA images are 1024x1024\n",
    "    label_path = os.path.join(label_dir, f\"{patient_id}.txt\")\n",
    "\n",
    "    with open(label_path, \"a\") as f:\n",
    "        if row is None:\n",
    "            return  # No bounding box to write\n",
    "\n",
    "        # Extract bounding box coordinates\n",
    "        x, y, w, h = row[1], row[2], row[3], row[4]\n",
    "\n",
    "        # Convert to YOLO format: class_id cx cy width height (all normalized)\n",
    "        cx = (x + w / 2) / img_size\n",
    "        cy = (y + h / 2) / img_size\n",
    "        nw = w / img_size\n",
    "        nh = h / img_size\n",
    "\n",
    "        f.write(f\"0 {cx} {cy} {nw} {nh}\\n\")  # Class 0 = pneumonia\n",
    "\n",
    "# Function to process the entire dataset and save images and labels\n",
    "def prepare_yolo_dataset(dicom_dir, output_img_dir, label_dir, annotations_df):\n",
    "    for row in tqdm(annotations_df.values):\n",
    "        patient_id = row[0]\n",
    "        target = row[5]  # 1 = pneumonia, 0 = normal\n",
    "\n",
    "        img_path = os.path.join(output_img_dir, f\"{patient_id}.jpg\")\n",
    "\n",
    "        # Skip non-pneumonia cases to save space (optional)\n",
    "        if target == 0:\n",
    "            continue\n",
    "\n",
    "        # Save label and image\n",
    "        save_yolo_label(label_dir, patient_id, row)\n",
    "        if not os.path.exists(img_path):\n",
    "            save_image_from_dicom(dicom_dir, output_img_dir, patient_id)\n",
    "\n",
    "# Example usage\n",
    "labels_df = pd.read_csv(LABEL_CSV)\n",
    "prepare_yolo_dataset(TRAIN_IMG_DIR, \"yolo_images\", \"yolo_labels\", labels_df)\n"
   ]
  }
 ],
 "metadata": {
  "kernelspec": {
   "display_name": ".venv",
   "language": "python",
   "name": "python3"
  },
  "language_info": {
   "codemirror_mode": {
    "name": "ipython",
    "version": 3
   },
   "file_extension": ".py",
   "mimetype": "text/x-python",
   "name": "python",
   "nbconvert_exporter": "python",
   "pygments_lexer": "ipython3",
   "version": "3.11.5"
  }
 },
 "nbformat": 4,
 "nbformat_minor": 5
}
