{
 "cells": [
  {
   "cell_type": "code",
   "execution_count": 2,
   "id": "6d30183c",
   "metadata": {},
   "outputs": [],
   "source": [
    "# Display tools\n",
    "from IPython.display import HTML, display  # For HTML rendering in notebooks\n",
    "import os \n",
    "import matplotlib.pyplot as plt\n",
    "import pandas as pd"
   ]
  },
  {
   "cell_type": "code",
   "execution_count": 4,
   "id": "d88e84f3",
   "metadata": {},
   "outputs": [
    {
     "name": "stdout",
     "output_type": "stream",
     "text": [
      " Found 26684 DICOM files in the 'train' directory.\n",
      " Found 3000 DICOM files in the 'test' directory.\n"
     ]
    }
   ],
   "source": [
    "import os\n",
    "\n",
    "def get_dicom_paths(directory_path, label=None, verbose=True):\n",
    "    \"\"\"\n",
    "    Scans a directory for DICOM (.dcm) files and returns their paths.\n",
    "\n",
    "    Parameters:\n",
    "    - directory_path (str): Directory to scan for .dcm files\n",
    "    - label (str, optional): Label for display (e.g., 'train', 'test')\n",
    "    - verbose (bool): Whether to print the number of files found\n",
    "\n",
    "    Returns:\n",
    "    - List[str]: Paths to DICOM files\n",
    "    \"\"\"\n",
    "    dicom_paths = [\n",
    "        os.path.join(directory_path, file)\n",
    "        for file in os.listdir(directory_path)\n",
    "        if file.lower().endswith('.dcm')\n",
    "    ]\n",
    "    \n",
    "    if verbose:\n",
    "        label_text = f\" in the '{label}' directory\" if label else \"\"\n",
    "        print(f\" Found {len(dicom_paths)} DICOM files{label_text}.\")\n",
    "    \n",
    "    return dicom_paths\n",
    "\n",
    "# --- Define Image Directories ---\n",
    "TRAIN_IMG_DIR = r\"C:\\Users\\samya\\PyCharmProject\\Pneumonia-Detection_dataset\\data\\stage_2_train_images\"\n",
    "TEST_IMG_DIR  = r\"C:\\Users\\samya\\PyCharmProject\\Pneumonia-Detection_dataset\\data\\stage_2_test_images\"\n",
    "\n",
    "# --- Get File Paths ---\n",
    "train_img_paths = get_dicom_paths(TRAIN_IMG_DIR, label=\"train\")\n",
    "test_img_paths  = get_dicom_paths(TEST_IMG_DIR, label=\"test\")\n"
   ]
  },
  {
   "cell_type": "code",
   "execution_count": 5,
   "id": "d6db6142",
   "metadata": {},
   "outputs": [
    {
     "name": "stdout",
     "output_type": "stream",
     "text": [
      " Found 26684 DICOM files in the 'train' directory.\n",
      " Found 3000 DICOM files in the 'test' directory.\n"
     ]
    }
   ],
   "source": [
    "# --- Define Image Directories ---\n",
    "TRAIN_IMG_DIR = r\"C:\\Users\\samya\\PyCharmProject\\Pneumonia-Detection_dataset\\data\\stage_2_train_images\"\n",
    "TEST_IMG_DIR  = r\"C:\\Users\\samya\\PyCharmProject\\Pneumonia-Detection_dataset\\data\\stage_2_test_images\"\n",
    "\n",
    "train_img_path = get_dicom_paths(TRAIN_IMG_DIR, label=\"train\")\n",
    "test_img_path  = get_dicom_paths(TEST_IMG_DIR, label=\"test\")\n"
   ]
  },
  {
   "cell_type": "code",
   "execution_count": 6,
   "id": "77bd868c",
   "metadata": {},
   "outputs": [
    {
     "data": {
      "text/html": [
       "<div>\n",
       "<style scoped>\n",
       "    .dataframe tbody tr th:only-of-type {\n",
       "        vertical-align: middle;\n",
       "    }\n",
       "\n",
       "    .dataframe tbody tr th {\n",
       "        vertical-align: top;\n",
       "    }\n",
       "\n",
       "    .dataframe thead th {\n",
       "        text-align: right;\n",
       "    }\n",
       "</style>\n",
       "<table border=\"1\" class=\"dataframe\">\n",
       "  <thead>\n",
       "    <tr style=\"text-align: right;\">\n",
       "      <th></th>\n",
       "      <th>patientId</th>\n",
       "      <th>x</th>\n",
       "      <th>y</th>\n",
       "      <th>width</th>\n",
       "      <th>height</th>\n",
       "      <th>Target</th>\n",
       "    </tr>\n",
       "  </thead>\n",
       "  <tbody>\n",
       "    <tr>\n",
       "      <th>0</th>\n",
       "      <td>0004cfab-14fd-4e49-80ba-63a80b6bddd6</td>\n",
       "      <td>NaN</td>\n",
       "      <td>NaN</td>\n",
       "      <td>NaN</td>\n",
       "      <td>NaN</td>\n",
       "      <td>0</td>\n",
       "    </tr>\n",
       "    <tr>\n",
       "      <th>1</th>\n",
       "      <td>00313ee0-9eaa-42f4-b0ab-c148ed3241cd</td>\n",
       "      <td>NaN</td>\n",
       "      <td>NaN</td>\n",
       "      <td>NaN</td>\n",
       "      <td>NaN</td>\n",
       "      <td>0</td>\n",
       "    </tr>\n",
       "    <tr>\n",
       "      <th>2</th>\n",
       "      <td>00322d4d-1c29-4943-afc9-b6754be640eb</td>\n",
       "      <td>NaN</td>\n",
       "      <td>NaN</td>\n",
       "      <td>NaN</td>\n",
       "      <td>NaN</td>\n",
       "      <td>0</td>\n",
       "    </tr>\n",
       "    <tr>\n",
       "      <th>3</th>\n",
       "      <td>003d8fa0-6bf1-40ed-b54c-ac657f8495c5</td>\n",
       "      <td>NaN</td>\n",
       "      <td>NaN</td>\n",
       "      <td>NaN</td>\n",
       "      <td>NaN</td>\n",
       "      <td>0</td>\n",
       "    </tr>\n",
       "    <tr>\n",
       "      <th>4</th>\n",
       "      <td>00436515-870c-4b36-a041-de91049b9ab4</td>\n",
       "      <td>264.0</td>\n",
       "      <td>152.0</td>\n",
       "      <td>213.0</td>\n",
       "      <td>379.0</td>\n",
       "      <td>1</td>\n",
       "    </tr>\n",
       "  </tbody>\n",
       "</table>\n",
       "</div>"
      ],
      "text/plain": [
       "                              patientId      x      y  width  height  Target\n",
       "0  0004cfab-14fd-4e49-80ba-63a80b6bddd6    NaN    NaN    NaN     NaN       0\n",
       "1  00313ee0-9eaa-42f4-b0ab-c148ed3241cd    NaN    NaN    NaN     NaN       0\n",
       "2  00322d4d-1c29-4943-afc9-b6754be640eb    NaN    NaN    NaN     NaN       0\n",
       "3  003d8fa0-6bf1-40ed-b54c-ac657f8495c5    NaN    NaN    NaN     NaN       0\n",
       "4  00436515-870c-4b36-a041-de91049b9ab4  264.0  152.0  213.0   379.0       1"
      ]
     },
     "execution_count": 6,
     "metadata": {},
     "output_type": "execute_result"
    }
   ],
   "source": [
    "labels = pd.read_csv(r\"C:\\Users\\samya\\PyCharmProject\\Pneumonia-Detection_dataset\\data\\stage_2_train_labels.csv\")\n",
    "labels.head()"
   ]
  },
  {
   "cell_type": "code",
   "execution_count": 7,
   "id": "f4e0cfdc",
   "metadata": {},
   "outputs": [],
   "source": [
    "count_normal = len(labels.loc[labels['Target']==0])\n",
    "count_pnemonia= len(labels.loc[labels['Target']==1])\n",
    "traing_count=len(train_img_path)"
   ]
  },
  {
   "cell_type": "code",
   "execution_count": 8,
   "id": "943f4bf6",
   "metadata": {},
   "outputs": [],
   "source": [
    "weight_for_zero =(1/count_normal)*(traing_count)/2.0\n",
    "weight_for_ones =(1/count_pnemonia)*(traing_count)/2.0"
   ]
  },
  {
   "cell_type": "code",
   "execution_count": 9,
   "id": "22a0eac5",
   "metadata": {},
   "outputs": [],
   "source": [
    "classweight= {0: weight_for_zero,\n",
    "              1: weight_for_ones}"
   ]
  },
  {
   "cell_type": "code",
   "execution_count": 10,
   "id": "33497c60",
   "metadata": {},
   "outputs": [
    {
     "name": "stdout",
     "output_type": "stream",
     "text": [
      "Weights: {0: 0.6454140866873065, 1: 1.3963369963369963}\n"
     ]
    }
   ],
   "source": [
    "print(\"Weights:\", classweight)"
   ]
  },
  {
   "cell_type": "code",
   "execution_count": 11,
   "id": "00b2e61a",
   "metadata": {},
   "outputs": [],
   "source": [
    "def parseMetadata(dcm):  # corrected from 'paraseMetadata'\n",
    "    unpackedData = {}\n",
    "    groupElemToKeywords = {}\n",
    "    \n",
    "    for d in dcm:  # This forces conversion from lazy RawDataElement to DataElement\n",
    "        pass\n",
    "\n",
    "    # Un-pack Data\n",
    "    for tag, elem in dcm.items():\n",
    "        tagGroup = tag.group\n",
    "        tagElem = tag.elem\n",
    "        keyword = elem.keyword\n",
    "        groupElemToKeywords[(tagGroup, tagElem)] = keyword\n",
    "        value = elem.value\n",
    "        unpackedData[keyword] = value\n",
    "        \n",
    "    return unpackedData, groupElemToKeywords\n"
   ]
  },
  {
   "cell_type": "code",
   "execution_count": 12,
   "id": "b388e6a0",
   "metadata": {},
   "outputs": [],
   "source": [
    "from tqdm import tqdm"
   ]
  },
  {
   "cell_type": "code",
   "execution_count": 14,
   "id": "d116485d",
   "metadata": {},
   "outputs": [
    {
     "name": "stderr",
     "output_type": "stream",
     "text": [
      "100%|██████████| 26684/26684 [08:07<00:00, 54.77it/s]\n",
      "100%|██████████| 3000/3000 [00:42<00:00, 71.02it/s]\n",
      "100%|██████████| 26684/26684 [00:17<00:00, 1544.32it/s]\n",
      "100%|██████████| 3000/3000 [00:03<00:00, 867.20it/s] \n"
     ]
    }
   ],
   "source": [
    "import pydicom\n",
    "from tqdm import tqdm\n",
    "\n",
    "# Step 1: Read DICOM files from paths\n",
    "train_dcms = [pydicom.dcmread(path) for path in tqdm(train_img_path)]\n",
    "test_dcms = [pydicom.dcmread(path) for path in tqdm(test_img_path)]\n",
    "\n",
    "# Step 2: Parse metadata from DICOM datasets\n",
    "trainMetaDicts, trainKeyword = zip(*[parseMetadata(dcm) for dcm in tqdm(train_dcms)])\n",
    "testMetaDicts, testKeyword = zip(*[parseMetadata(dcm) for dcm in tqdm(test_dcms)])\n"
   ]
  },
  {
   "cell_type": "code",
   "execution_count": 15,
   "id": "8b548caa",
   "metadata": {},
   "outputs": [],
   "source": [
    "def createY(df):\n",
    "    \"\"\"\n",
    "    Returns binary labels: 1 if 'SeriesDescription' is 'view: PA', else 0.\n",
    "    \"\"\"\n",
    "    if 'SeriesDescription' not in df.columns:\n",
    "        raise ValueError(\"Missing 'SeriesDescription' column in DataFrame.\")\n",
    "    \n",
    "    return (df['SeriesDescription'] == 'view: PA').astype(int).values\n"
   ]
  },
  {
   "cell_type": "code",
   "execution_count": 16,
   "id": "e2d5661f",
   "metadata": {},
   "outputs": [],
   "source": [
    "train_df = pd.DataFrame.from_dict(data=trainMetaDicts)\n",
    "test_df = pd.DataFrame.from_dict(data=testMetaDicts)\n",
    "\n",
    "train_df['dataset'] = 'train'\n",
    "test_df['dataset'] = 'test'\n",
    "\n",
    "train_Y = createY(train_df)\n",
    "test_Y = createY(test_df)\n"
   ]
  },
  {
   "cell_type": "code",
   "execution_count": 17,
   "id": "062c7d17",
   "metadata": {},
   "outputs": [
    {
     "data": {
      "text/plain": [
       "array([1, 1, 1, ..., 1, 1, 1], shape=(3000,))"
      ]
     },
     "execution_count": 17,
     "metadata": {},
     "output_type": "execute_result"
    }
   ],
   "source": [
    "test_Y"
   ]
  },
  {
   "cell_type": "code",
   "execution_count": 18,
   "id": "4be71d0a",
   "metadata": {},
   "outputs": [],
   "source": [
    "def decodeImage(filePath):\n",
    "    image = pydicom.dcmread(filePath).pixel_array\n",
    "    image = cv2.resize(image, (128, 128))\n",
    "    return image / 255.0\n"
   ]
  },
  {
   "cell_type": "code",
   "execution_count": 20,
   "id": "389899c9",
   "metadata": {},
   "outputs": [
    {
     "name": "stderr",
     "output_type": "stream",
     "text": [
      "100%|██████████| 5000/5000 [00:47<00:00, 105.47it/s]\n"
     ]
    }
   ],
   "source": [
    "\n",
    "import cv2\n",
    "import numpy as np\n",
    "\n",
    "# Get our train x in the correct shape\n",
    "train_X = []\n",
    "\n",
    "for filePath in tqdm(train_img_path[:5000]):\n",
    "    \n",
    "    img = decodeImage(filePath)\n",
    "    train_X.append(img)\n",
    "\n",
    "train_X = np.array(train_X) # Convert to np.array\n",
    "train_X_rgb = np.repeat(train_X[..., np.newaxis], 3, -1) # Reshape into rgb format"
   ]
  },
  {
   "cell_type": "code",
   "execution_count": 21,
   "id": "e68b29df",
   "metadata": {},
   "outputs": [
    {
     "name": "stderr",
     "output_type": "stream",
     "text": [
      "100%|██████████| 3000/3000 [00:30<00:00, 99.31it/s] \n"
     ]
    }
   ],
   "source": [
    "test_X =[]\n",
    "for filePath in tqdm(test_img_path[:5000]):\n",
    "    \n",
    "    img = decodeImage(filePath)\n",
    "    test_X.append(img)\n",
    "\n",
    "test_X = np.array(test_X) # Convert to np array\n",
    "test_X_rgb = np.repeat(test_X[..., np.newaxis], 3, -1) # Reshape into rgb format"
   ]
  },
  {
   "cell_type": "code",
   "execution_count": 25,
   "id": "4df9a630",
   "metadata": {},
   "outputs": [],
   "source": [
    "import matplotlib.pyplot as plt\n",
    "\n",
    "def plot_score(hist):\n",
    "    fig, ax = plt.subplots(1, 5, figsize=(20, 3))  # Corrected 'subplot' to 'subplots'\n",
    "    ax = ax.ravel()\n",
    "\n",
    "    for i, met in enumerate(['accuracy', 'precision', 'recall', 'AUC', 'loss']):\n",
    "        ax[i].plot(hist.history[met])\n",
    "        ax[i].plot(hist.history['val_' + met])\n",
    "        ax[i].set_title(f'Model {met}')\n",
    "        ax[i].set_xlabel('Epochs')\n",
    "        ax[i].set_ylabel(met)\n",
    "        ax[i].legend(['Train', 'Validation'])\n",
    "\n",
    "    plt.tight_layout()\n",
    "    plt.show()\n"
   ]
  },
  {
   "cell_type": "code",
   "execution_count": null,
   "id": "1b974a6c",
   "metadata": {},
   "outputs": [],
   "source": [
    "!pip install tensorflow"
   ]
  },
  {
   "cell_type": "code",
   "execution_count": 26,
   "id": "73c6216f",
   "metadata": {},
   "outputs": [
    {
     "ename": "ModuleNotFoundError",
     "evalue": "No module named 'tensorflow'",
     "output_type": "error",
     "traceback": [
      "\u001b[31m---------------------------------------------------------------------------\u001b[39m",
      "\u001b[31mModuleNotFoundError\u001b[39m                       Traceback (most recent call last)",
      "\u001b[36mCell\u001b[39m\u001b[36m \u001b[39m\u001b[32mIn[26]\u001b[39m\u001b[32m, line 1\u001b[39m\n\u001b[32m----> \u001b[39m\u001b[32m1\u001b[39m \u001b[38;5;28;01mimport\u001b[39;00m\u001b[38;5;250m \u001b[39m\u001b[34;01mtensorflow\u001b[39;00m\u001b[38;5;250m \u001b[39m\u001b[38;5;28;01mas\u001b[39;00m\u001b[38;5;250m \u001b[39m\u001b[34;01mtf\u001b[39;00m\n",
      "\u001b[31mModuleNotFoundError\u001b[39m: No module named 'tensorflow'"
     ]
    }
   ],
   "source": [
    "import tensorflow as tf"
   ]
  },
  {
   "cell_type": "code",
   "execution_count": null,
   "id": "b5daf8e3",
   "metadata": {},
   "outputs": [],
   "source": [
    "# These our our scoring metrics that are going to be used to evaluate our models\n",
    "METRICS = ['accuracy', \n",
    "           tf.keras.metrics.Precision(name='precision'), \n",
    "           tf.keras.metrics.Recall(name='recall'), \n",
    "           tf.keras.metrics.AUC(name='AUC')]"
   ]
  }
 ],
 "metadata": {
  "kernelspec": {
   "display_name": ".venv",
   "language": "python",
   "name": "python3"
  },
  "language_info": {
   "codemirror_mode": {
    "name": "ipython",
    "version": 3
   },
   "file_extension": ".py",
   "mimetype": "text/x-python",
   "name": "python",
   "nbconvert_exporter": "python",
   "pygments_lexer": "ipython3",
   "version": "3.11.5"
  }
 },
 "nbformat": 4,
 "nbformat_minor": 5
}
